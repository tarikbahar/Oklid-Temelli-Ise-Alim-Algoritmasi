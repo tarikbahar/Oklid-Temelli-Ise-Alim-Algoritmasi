{
 "cells": [
  {
   "cell_type": "markdown",
   "metadata": {},
   "source": [
    "### İşe Alım Robotu\n",
    "Öncelikle yazacağımız kodun konseptinden bahsetmekte fayda var.\n",
    "Bir şirkete başvuran 1000 adaydan 100'ü işe alınmış olsun. Her adayın \"Social Skills, Knowledge in algorithms, GPA ve Age\" gibi 4 temel özelliği olsun, ama bu özelliklerden sadece Social Skills, Knowledge in algorithms işe alınma için gerçekten ayırt edici olsun. Bu özelliklerin 0 ile 5 arasında değer aldığını kabul edelim.\n",
    "\n",
    "ve işe alınanlar kişilerin Social Skills ve Knowledge in algorithms özellikleri 5 üzerinden 5'e yakın rastgele sayılardan oluşsun. Diğer özellikler olan GPA, Age ise rastgele doldurulsun.\n",
    "İşe alınmayanlarda ise Social Skills ve Knowledge in algorithms 5 üzerinden 1'e yakın rastgele sayılardan oluşsun.ve yine diğer özellikler olan GPA, Age ise rastgele doldurulsun.\n",
    "\n",
    "Öncelikle bu veri setini oluşturalım. Daha sonra da Öklid Temelli İşe Alım Algoritması ile test setindeki adaylardan kimlerin işe alınıp kimlerin alınmayacağını test edelim."
   ]
  },
  {
   "cell_type": "markdown",
   "metadata": {},
   "source": [
    "Kod boyunca kullanacağımız tüm kütüphaneleri ekleyerek başlayalım."
   ]
  },
  {
   "cell_type": "code",
   "execution_count": 2,
   "metadata": {},
   "outputs": [],
   "source": [
    "import numpy as np\n",
    "import pandas as pd\n",
    "import matplotlib.pyplot as plt\n",
    "\n",
    "np.random.seed(2019)"
   ]
  },
  {
   "cell_type": "markdown",
   "metadata": {},
   "source": [
    "Belirlenen min ve max değeri arasında ortalaması \"mu\" olan ve standart sapması 1 olan normal dağılımdan sayı üreten bir fonksiyon yazalım."
   ]
  },
  {
   "cell_type": "code",
   "execution_count": 3,
   "metadata": {},
   "outputs": [],
   "source": [
    "def generate(mu = None, minval = 0, maxval = 5):\n",
    "    # Eger mu None ise, mu degeri minval ve maxval'in ortalaması olsun\n",
    "    if mu == None:\n",
    "        mu = np.mean([minval,maxval])\n",
    "    \n",
    "    # val, ortalaması mu olan, standart sapması 1 olan normal dağılımdan bir rastgele sayı olsun\n",
    "    val =np.random.normal(mu, 1)\n",
    "    \n",
    "#   Eger val, maxval'den büyükse veye minval'den küçükse, sayıyı tekrar üretelim\n",
    "    while val>maxval or val<minval :\n",
    "        val =np.random.normal(mu, 1)\n",
    "    return val"
   ]
  },
  {
   "cell_type": "markdown",
   "metadata": {},
   "source": [
    "#### Veri Seti Oluşturalım\n",
    "Generate fonksiyonu ile bir veri seti oluşturalım. Oluşturduğumuz veri setinde Social Skills, Knowledge in algorithms, GPA, Age, Target gibi özellikler olsun. Adayın başarı değerlendirmesinde ise Social Skills ve Knowledge in algorithms önemli, GPA ve Age önemsiz veriler olsun. <br>\n",
    "Üreteceğimiz veri setinde ilk yüz aday başarılı olsun ve\n",
    "- target = 1,\n",
    "- Social Skills ve Knowledge in algorithms 5 üzerinden 5e yakın rastgele sayılar,\n",
    "- GPA ve AGE, 0 ve 5 arasinda rastgele sayılardan oluşsun.\n",
    "\n",
    "Ürettiğimiz son 900 aday ise başarısız olsun ve \n",
    "- target = 0,\n",
    "- Social Skills ve Knowledge in algorithms 5 üzerinden 1e yakın rastgele sayılar,\n",
    "- GPA ve AGE, 0 ve 5 arasinda rastgele sayılardan oluşsun."
   ]
  },
  {
   "cell_type": "code",
   "execution_count": 4,
   "metadata": {},
   "outputs": [],
   "source": [
    "social_skills = []\n",
    "algorithm_knowledge = []\n",
    "GPA = []\n",
    "Age = []\n",
    "target=[]\n",
    "\n",
    "for i in range(100):\n",
    "    social_skills.append(round(generate(minval=2.7), 6))\n",
    "    algorithm_knowledge.append(round(generate(minval=2.7), 6))\n",
    "    GPA.append(round(generate(), 6))\n",
    "    Age.append(round(generate(), 6))\n",
    "    target.append(1)\n",
    "    \n",
    "for i in range(900):\n",
    "    social_skills.append(round(generate(maxval=2.5), 6))\n",
    "    algorithm_knowledge.append(round(generate(maxval=2.5), 6))\n",
    "    GPA.append(round(generate(), 6))\n",
    "    Age.append(round(generate(), 6))\n",
    "    target.append(0)"
   ]
  },
  {
   "cell_type": "markdown",
   "metadata": {},
   "source": [
    "Ardından veri dictionary'si oluşturalım ve verimizi pandas dataframe'e dönüştürelim."
   ]
  },
  {
   "cell_type": "code",
   "execution_count": 5,
   "metadata": {},
   "outputs": [],
   "source": [
    "datadict = {\"social\":social_skills, \"algorithm\":algorithm_knowledge, \"gpa\":GPA, \"age\":Age, \"y\":target}\n",
    "data = pd.DataFrame.from_dict(datadict)"
   ]
  },
  {
   "cell_type": "markdown",
   "metadata": {},
   "source": [
    "Verimizin ilk ve son 10 satırını görelim."
   ]
  },
  {
   "cell_type": "code",
   "execution_count": 6,
   "metadata": {},
   "outputs": [
    {
     "data": {
      "text/html": [
       "<div>\n",
       "<style scoped>\n",
       "    .dataframe tbody tr th:only-of-type {\n",
       "        vertical-align: middle;\n",
       "    }\n",
       "\n",
       "    .dataframe tbody tr th {\n",
       "        vertical-align: top;\n",
       "    }\n",
       "\n",
       "    .dataframe thead th {\n",
       "        text-align: right;\n",
       "    }\n",
       "</style>\n",
       "<table border=\"1\" class=\"dataframe\">\n",
       "  <thead>\n",
       "    <tr style=\"text-align: right;\">\n",
       "      <th></th>\n",
       "      <th>social</th>\n",
       "      <th>algorithm</th>\n",
       "      <th>gpa</th>\n",
       "      <th>age</th>\n",
       "      <th>y</th>\n",
       "    </tr>\n",
       "  </thead>\n",
       "  <tbody>\n",
       "    <tr>\n",
       "      <th>0</th>\n",
       "      <td>3.632321</td>\n",
       "      <td>4.671455</td>\n",
       "      <td>3.981278</td>\n",
       "      <td>3.831864</td>\n",
       "      <td>1</td>\n",
       "    </tr>\n",
       "    <tr>\n",
       "      <th>1</th>\n",
       "      <td>3.488135</td>\n",
       "      <td>4.535609</td>\n",
       "      <td>3.073761</td>\n",
       "      <td>2.787728</td>\n",
       "      <td>1</td>\n",
       "    </tr>\n",
       "    <tr>\n",
       "      <th>2</th>\n",
       "      <td>3.614366</td>\n",
       "      <td>4.803490</td>\n",
       "      <td>0.810375</td>\n",
       "      <td>2.155057</td>\n",
       "      <td>1</td>\n",
       "    </tr>\n",
       "    <tr>\n",
       "      <th>3</th>\n",
       "      <td>3.866905</td>\n",
       "      <td>3.335016</td>\n",
       "      <td>2.744509</td>\n",
       "      <td>2.310687</td>\n",
       "      <td>1</td>\n",
       "    </tr>\n",
       "    <tr>\n",
       "      <th>4</th>\n",
       "      <td>4.314802</td>\n",
       "      <td>4.695930</td>\n",
       "      <td>1.996458</td>\n",
       "      <td>1.536664</td>\n",
       "      <td>1</td>\n",
       "    </tr>\n",
       "    <tr>\n",
       "      <th>5</th>\n",
       "      <td>3.914969</td>\n",
       "      <td>4.904969</td>\n",
       "      <td>3.307277</td>\n",
       "      <td>2.974141</td>\n",
       "      <td>1</td>\n",
       "    </tr>\n",
       "    <tr>\n",
       "      <th>6</th>\n",
       "      <td>4.260928</td>\n",
       "      <td>4.336689</td>\n",
       "      <td>1.964470</td>\n",
       "      <td>1.661092</td>\n",
       "      <td>1</td>\n",
       "    </tr>\n",
       "    <tr>\n",
       "      <th>7</th>\n",
       "      <td>3.037625</td>\n",
       "      <td>3.399207</td>\n",
       "      <td>3.570801</td>\n",
       "      <td>2.717421</td>\n",
       "      <td>1</td>\n",
       "    </tr>\n",
       "    <tr>\n",
       "      <th>8</th>\n",
       "      <td>2.923883</td>\n",
       "      <td>2.856052</td>\n",
       "      <td>3.086806</td>\n",
       "      <td>3.563813</td>\n",
       "      <td>1</td>\n",
       "    </tr>\n",
       "    <tr>\n",
       "      <th>9</th>\n",
       "      <td>4.087741</td>\n",
       "      <td>3.074943</td>\n",
       "      <td>1.520896</td>\n",
       "      <td>0.950637</td>\n",
       "      <td>1</td>\n",
       "    </tr>\n",
       "  </tbody>\n",
       "</table>\n",
       "</div>"
      ],
      "text/plain": [
       "     social  algorithm       gpa       age  y\n",
       "0  3.632321   4.671455  3.981278  3.831864  1\n",
       "1  3.488135   4.535609  3.073761  2.787728  1\n",
       "2  3.614366   4.803490  0.810375  2.155057  1\n",
       "3  3.866905   3.335016  2.744509  2.310687  1\n",
       "4  4.314802   4.695930  1.996458  1.536664  1\n",
       "5  3.914969   4.904969  3.307277  2.974141  1\n",
       "6  4.260928   4.336689  1.964470  1.661092  1\n",
       "7  3.037625   3.399207  3.570801  2.717421  1\n",
       "8  2.923883   2.856052  3.086806  3.563813  1\n",
       "9  4.087741   3.074943  1.520896  0.950637  1"
      ]
     },
     "execution_count": 6,
     "metadata": {},
     "output_type": "execute_result"
    }
   ],
   "source": [
    "data.head(10)"
   ]
  },
  {
   "cell_type": "code",
   "execution_count": 7,
   "metadata": {},
   "outputs": [
    {
     "data": {
      "text/html": [
       "<div>\n",
       "<style scoped>\n",
       "    .dataframe tbody tr th:only-of-type {\n",
       "        vertical-align: middle;\n",
       "    }\n",
       "\n",
       "    .dataframe tbody tr th {\n",
       "        vertical-align: top;\n",
       "    }\n",
       "\n",
       "    .dataframe thead th {\n",
       "        text-align: right;\n",
       "    }\n",
       "</style>\n",
       "<table border=\"1\" class=\"dataframe\">\n",
       "  <thead>\n",
       "    <tr style=\"text-align: right;\">\n",
       "      <th></th>\n",
       "      <th>social</th>\n",
       "      <th>algorithm</th>\n",
       "      <th>gpa</th>\n",
       "      <th>age</th>\n",
       "      <th>y</th>\n",
       "    </tr>\n",
       "  </thead>\n",
       "  <tbody>\n",
       "    <tr>\n",
       "      <th>990</th>\n",
       "      <td>2.075205</td>\n",
       "      <td>1.110226</td>\n",
       "      <td>0.411952</td>\n",
       "      <td>3.382964</td>\n",
       "      <td>0</td>\n",
       "    </tr>\n",
       "    <tr>\n",
       "      <th>991</th>\n",
       "      <td>0.145598</td>\n",
       "      <td>2.334337</td>\n",
       "      <td>2.030630</td>\n",
       "      <td>1.671812</td>\n",
       "      <td>0</td>\n",
       "    </tr>\n",
       "    <tr>\n",
       "      <th>992</th>\n",
       "      <td>0.758109</td>\n",
       "      <td>1.468240</td>\n",
       "      <td>1.581316</td>\n",
       "      <td>4.087012</td>\n",
       "      <td>0</td>\n",
       "    </tr>\n",
       "    <tr>\n",
       "      <th>993</th>\n",
       "      <td>1.168546</td>\n",
       "      <td>0.805057</td>\n",
       "      <td>2.485693</td>\n",
       "      <td>2.435521</td>\n",
       "      <td>0</td>\n",
       "    </tr>\n",
       "    <tr>\n",
       "      <th>994</th>\n",
       "      <td>1.533854</td>\n",
       "      <td>0.901360</td>\n",
       "      <td>1.578582</td>\n",
       "      <td>3.227614</td>\n",
       "      <td>0</td>\n",
       "    </tr>\n",
       "    <tr>\n",
       "      <th>995</th>\n",
       "      <td>0.364191</td>\n",
       "      <td>1.916583</td>\n",
       "      <td>1.868570</td>\n",
       "      <td>1.156315</td>\n",
       "      <td>0</td>\n",
       "    </tr>\n",
       "    <tr>\n",
       "      <th>996</th>\n",
       "      <td>1.319413</td>\n",
       "      <td>1.388719</td>\n",
       "      <td>1.250696</td>\n",
       "      <td>3.536316</td>\n",
       "      <td>0</td>\n",
       "    </tr>\n",
       "    <tr>\n",
       "      <th>997</th>\n",
       "      <td>1.667544</td>\n",
       "      <td>2.362136</td>\n",
       "      <td>3.992645</td>\n",
       "      <td>0.825649</td>\n",
       "      <td>0</td>\n",
       "    </tr>\n",
       "    <tr>\n",
       "      <th>998</th>\n",
       "      <td>0.613938</td>\n",
       "      <td>2.245585</td>\n",
       "      <td>0.552004</td>\n",
       "      <td>2.733080</td>\n",
       "      <td>0</td>\n",
       "    </tr>\n",
       "    <tr>\n",
       "      <th>999</th>\n",
       "      <td>0.109475</td>\n",
       "      <td>1.305941</td>\n",
       "      <td>3.533353</td>\n",
       "      <td>2.120940</td>\n",
       "      <td>0</td>\n",
       "    </tr>\n",
       "  </tbody>\n",
       "</table>\n",
       "</div>"
      ],
      "text/plain": [
       "       social  algorithm       gpa       age  y\n",
       "990  2.075205   1.110226  0.411952  3.382964  0\n",
       "991  0.145598   2.334337  2.030630  1.671812  0\n",
       "992  0.758109   1.468240  1.581316  4.087012  0\n",
       "993  1.168546   0.805057  2.485693  2.435521  0\n",
       "994  1.533854   0.901360  1.578582  3.227614  0\n",
       "995  0.364191   1.916583  1.868570  1.156315  0\n",
       "996  1.319413   1.388719  1.250696  3.536316  0\n",
       "997  1.667544   2.362136  3.992645  0.825649  0\n",
       "998  0.613938   2.245585  0.552004  2.733080  0\n",
       "999  0.109475   1.305941  3.533353  2.120940  0"
      ]
     },
     "execution_count": 7,
     "metadata": {},
     "output_type": "execute_result"
    }
   ],
   "source": [
    "data.tail(10)"
   ]
  },
  {
   "cell_type": "markdown",
   "metadata": {},
   "source": [
    "Veri özelliklerine göz atalım."
   ]
  },
  {
   "cell_type": "code",
   "execution_count": 8,
   "metadata": {},
   "outputs": [
    {
     "data": {
      "text/html": [
       "<div>\n",
       "<style scoped>\n",
       "    .dataframe tbody tr th:only-of-type {\n",
       "        vertical-align: middle;\n",
       "    }\n",
       "\n",
       "    .dataframe tbody tr th {\n",
       "        vertical-align: top;\n",
       "    }\n",
       "\n",
       "    .dataframe thead th {\n",
       "        text-align: right;\n",
       "    }\n",
       "</style>\n",
       "<table border=\"1\" class=\"dataframe\">\n",
       "  <thead>\n",
       "    <tr style=\"text-align: right;\">\n",
       "      <th></th>\n",
       "      <th>social</th>\n",
       "      <th>algorithm</th>\n",
       "      <th>gpa</th>\n",
       "      <th>age</th>\n",
       "      <th>y</th>\n",
       "    </tr>\n",
       "  </thead>\n",
       "  <tbody>\n",
       "    <tr>\n",
       "      <th>count</th>\n",
       "      <td>1000.000000</td>\n",
       "      <td>1000.000000</td>\n",
       "      <td>1000.000000</td>\n",
       "      <td>1000.000000</td>\n",
       "      <td>1000.00000</td>\n",
       "    </tr>\n",
       "    <tr>\n",
       "      <th>mean</th>\n",
       "      <td>1.508976</td>\n",
       "      <td>1.497741</td>\n",
       "      <td>2.438807</td>\n",
       "      <td>2.461546</td>\n",
       "      <td>0.10000</td>\n",
       "    </tr>\n",
       "    <tr>\n",
       "      <th>std</th>\n",
       "      <td>1.025352</td>\n",
       "      <td>1.033184</td>\n",
       "      <td>0.956649</td>\n",
       "      <td>0.959651</td>\n",
       "      <td>0.30015</td>\n",
       "    </tr>\n",
       "    <tr>\n",
       "      <th>min</th>\n",
       "      <td>0.003881</td>\n",
       "      <td>0.013318</td>\n",
       "      <td>0.017718</td>\n",
       "      <td>0.033899</td>\n",
       "      <td>0.00000</td>\n",
       "    </tr>\n",
       "    <tr>\n",
       "      <th>25%</th>\n",
       "      <td>0.795781</td>\n",
       "      <td>0.761564</td>\n",
       "      <td>1.739258</td>\n",
       "      <td>1.821949</td>\n",
       "      <td>0.00000</td>\n",
       "    </tr>\n",
       "    <tr>\n",
       "      <th>50%</th>\n",
       "      <td>1.372168</td>\n",
       "      <td>1.341863</td>\n",
       "      <td>2.457422</td>\n",
       "      <td>2.484546</td>\n",
       "      <td>0.00000</td>\n",
       "    </tr>\n",
       "    <tr>\n",
       "      <th>75%</th>\n",
       "      <td>1.972942</td>\n",
       "      <td>2.005898</td>\n",
       "      <td>3.105033</td>\n",
       "      <td>3.087286</td>\n",
       "      <td>0.00000</td>\n",
       "    </tr>\n",
       "    <tr>\n",
       "      <th>max</th>\n",
       "      <td>4.960436</td>\n",
       "      <td>4.996085</td>\n",
       "      <td>4.923282</td>\n",
       "      <td>4.951061</td>\n",
       "      <td>1.00000</td>\n",
       "    </tr>\n",
       "  </tbody>\n",
       "</table>\n",
       "</div>"
      ],
      "text/plain": [
       "            social    algorithm          gpa          age           y\n",
       "count  1000.000000  1000.000000  1000.000000  1000.000000  1000.00000\n",
       "mean      1.508976     1.497741     2.438807     2.461546     0.10000\n",
       "std       1.025352     1.033184     0.956649     0.959651     0.30015\n",
       "min       0.003881     0.013318     0.017718     0.033899     0.00000\n",
       "25%       0.795781     0.761564     1.739258     1.821949     0.00000\n",
       "50%       1.372168     1.341863     2.457422     2.484546     0.00000\n",
       "75%       1.972942     2.005898     3.105033     3.087286     0.00000\n",
       "max       4.960436     4.996085     4.923282     4.951061     1.00000"
      ]
     },
     "execution_count": 8,
     "metadata": {},
     "output_type": "execute_result"
    }
   ],
   "source": [
    "data.describe()"
   ]
  },
  {
   "cell_type": "markdown",
   "metadata": {},
   "source": [
    "#### Veriyi Kaydedelim\n",
    "ve Verimizi Okuyalım"
   ]
  },
  {
   "cell_type": "code",
   "execution_count": 39,
   "metadata": {},
   "outputs": [],
   "source": [
    "data.to_csv(\"data.csv\", index=False)\n",
    "\n",
    "\n",
    "import requests\n",
    "import io\n",
    "url = \"https://raw.githubusercontent.com/uzay00/KaVe-Egitim/master/ARGE/Sorular/1-İseAlımRobotu/data.csv\"\n",
    "s = requests.get(url).content\n",
    "data = pd.read_csv(io.StringIO(s.decode('utf-8')))\n",
    "\n",
    "#data= pd.read_csv(\"data.csv\")"
   ]
  },
  {
   "cell_type": "markdown",
   "metadata": {},
   "source": [
    "#### Veriyi Görselleştirelim\n",
    "Bir kaç grafik oluşturalım ve veriyi görselleştirelim"
   ]
  },
  {
   "cell_type": "code",
   "execution_count": 40,
   "metadata": {},
   "outputs": [
    {
     "data": {
      "text/plain": [
       "Text(0.5, 1.0, 'Successful Candidates')"
      ]
     },
     "execution_count": 40,
     "metadata": {},
     "output_type": "execute_result"
    },
    {
     "data": {
      "image/png": "[encoded data removed]",
      "text/plain": [
       "<Figure size 432x288 with 1 Axes>"
      ]
     },
     "metadata": {
      "needs_background": "light"
     },
     "output_type": "display_data"
    }
   ],
   "source": [
    "ax = data[data.y == 1].plot.hist(bins=12, alpha=0.5)\n",
    "plt.title(\"Successful Candidates\")"
   ]
  },
  {
   "cell_type": "code",
   "execution_count": 41,
   "metadata": {},
   "outputs": [
    {
     "data": {
      "text/plain": [
       "Text(0.5, 1.0, 'Unsuccessful Candidates')"
      ]
     },
     "execution_count": 41,
     "metadata": {},
     "output_type": "execute_result"
    },
    {
     "data": {
      "image/png": "[encoded data removed]",
      "text/plain": [
       "<Figure size 432x288 with 1 Axes>"
      ]
     },
     "metadata": {
      "needs_background": "light"
     },
     "output_type": "display_data"
    }
   ],
   "source": [
    "ax = data[data.y == 0].plot.hist(bins=12, alpha=0.5)\n",
    "plt.title(\"Unsuccessful Candidates\")"
   ]
  },
  {
   "cell_type": "code",
   "execution_count": 42,
   "metadata": {},
   "outputs": [
    {
     "data": {
      "text/plain": [
       "<matplotlib.legend.Legend at 0x1a95415df98>"
      ]
     },
     "execution_count": 42,
     "metadata": {},
     "output_type": "execute_result"
    },
    {
     "data": {
      "image/png": "[encoded data removed]",
      "text/plain": [
       "<Figure size 432x288 with 1 Axes>"
      ]
     },
     "metadata": {
      "needs_background": "light"
     },
     "output_type": "display_data"
    }
   ],
   "source": [
    "plt.plot(data[\"algorithm\"][data.y == 0],data[\"age\"][data.y == 0],\"xr\" , label='Unsuccessful')\n",
    "plt.plot(data[\"algorithm\"][data.y == 1],data[\"age\"][data.y == 1],\">g\" , label='Successful')\n",
    "plt.xlabel(\"Knowledge in Algorithms\")\n",
    "plt.ylabel(\"Age Category\")\n",
    "plt.legend()"
   ]
  },
  {
   "cell_type": "markdown",
   "metadata": {},
   "source": [
    "#### Veri Matrisini Oluşturalım\n",
    "Verimizi Social Skills, Knowledge in algorithms, GPA, Age verileri bir matris, Target verisi bir matris olacak şekilde ikiye ayıralım. Oluşturacağımız ilk matris [1000,4] boyutunda aday özelliklerini tutsun, diğer matrisimiz ise [1000,1] boyutunda adayların işe kabul sonucunun olumlu mu olumsuz mu olduğunu tutsun."
   ]
  },
  {
   "cell_type": "code",
   "execution_count": 43,
   "metadata": {},
   "outputs": [
    {
     "name": "stdout",
     "output_type": "stream",
     "text": [
      "Matrix : X\n",
      "[[4.38511018 3.9027371  3.85438855 3.46275234]\n",
      " [4.87239669 4.12776812 3.80262297 3.29671891]\n",
      " [4.83024224 4.77907697 2.97946713 2.29136188]\n",
      " ...\n",
      " [1.52976627 2.31600693 4.05952622 0.84169662]\n",
      " [1.30197604 1.41804449 1.52541832 2.95788373]\n",
      " [1.34044951 1.16548149 3.0439767  2.61155526]]\n"
     ]
    }
   ],
   "source": [
    "M = pd.DataFrame(data).to_numpy()\n",
    "\n",
    "X = M[: , 0:4].reshape(-1,4)\n",
    "y = M[: , 4].reshape(-1,1)\n",
    "print(\"Matrix : X\")\n",
    "print(X)"
   ]
  },
  {
   "cell_type": "markdown",
   "metadata": {},
   "source": [
    "#### Veriyi Normalize Edelim"
   ]
  },
  {
   "cell_type": "code",
   "execution_count": 44,
   "metadata": {},
   "outputs": [
    {
     "name": "stdout",
     "output_type": "stream",
     "text": [
      "Normalized Matrix : X\n",
      "[[0.87741239 0.78288062 0.78485057 0.71179274]\n",
      " [0.97526433 0.82803244 0.77426785 0.67694645]\n",
      " [0.9667993  0.95871564 0.60598561 0.46594699]\n",
      " ...\n",
      " [0.30403115 0.46450787 0.82678799 0.16169826]\n",
      " [0.25828862 0.28433434 0.30872647 0.60583337]\n",
      " [0.26601447 0.23365832 0.61917365 0.53314762]]\n"
     ]
    }
   ],
   "source": [
    "from sklearn.preprocessing import MinMaxScaler\n",
    "scaler = MinMaxScaler()\n",
    "scaler.fit(X)\n",
    "X = scaler.transform(X)\n",
    "print(\"Normalized Matrix : X\")\n",
    "print(X)"
   ]
  },
  {
   "cell_type": "markdown",
   "metadata": {},
   "source": [
    "#### Oklid Temelli İşe Alım Algoritması Oluşturalım\n",
    "\n",
    "yeni_adaylar matrisindeki adaylari tek tek değerlendirelim.\n",
    "\n",
    "yeni_adaylar matrisindeki adayı alalım, normalize edelim.\n",
    "X matrisi ile Öklid mesafesi hesaplayalım.\n",
    "En yakin k = 5 komusuyu bulalım.\n",
    "\n",
    "Bu komşuların y kolonlarına bakalım ve yaridan fazlasi kabul almış ise, bu adayi da kabul edelim yoksa reddedelim.\n"
   ]
  },
  {
   "cell_type": "code",
   "execution_count": 45,
   "metadata": {},
   "outputs": [],
   "source": [
    "yeni_adaylar = np.array([[5, 5, 5, 5],\n",
    "                         [5, 5, 4, 4],\n",
    "                         [5, 5, 3, 3],\n",
    "                         [5, 5, 2, 2],\n",
    "                         [5, 5, 1, 1],\n",
    "                         [5, 5, 0, 0],\n",
    "                         [0, 0, 1, 1],\n",
    "                         [0, 0, 2, 2],\n",
    "                         [0, 0, 3, 3],\n",
    "                         [0, 0, 4, 4],\n",
    "                         [0, 0, 5, 5],\n",
    "                         [1, 2, 3, 4],\n",
    "                         [1, 1, 2, 3],\n",
    "                         [1, 2, 3, 4],\n",
    "                         [2, 2, 4, 4]])"
   ]
  },
  {
   "cell_type": "code",
   "execution_count": 46,
   "metadata": {},
   "outputs": [
    {
     "name": "stdout",
     "output_type": "stream",
     "text": [
      "[[1.00088834 1.0030432  1.01905418 1.03442284]]\n"
     ]
    }
   ],
   "source": [
    "i = 0\n",
    "aday = yeni_adaylar[i].reshape(1,-1)\n",
    "aday = scaler.transform(aday)\n",
    "\n",
    "#scaler.inverse_transform(aday)\n",
    "\n",
    "print(aday)"
   ]
  },
  {
   "cell_type": "markdown",
   "metadata": {},
   "source": [
    "Tüm yapacağımız bu işlemleri bir ise_alım fonksiyonu altında yapalım"
   ]
  },
  {
   "cell_type": "code",
   "execution_count": 47,
   "metadata": {},
   "outputs": [],
   "source": [
    "def ise_alim(yeni = 0, k = 5):\n",
    "    # Yeni aday matrisinden adaylari sec \n",
    "    aday = yeni_adaylar[yeni].reshape(1,-1)\n",
    "    # Transfrom et\n",
    "    aday = scaler.transform(aday)\n",
    "    # X ile Farkini al\n",
    "    D = X-aday\n",
    "    # Farkin karesi\n",
    "    D2 = D*D\n",
    "#    print(type(D2))\n",
    "    # Oklid mesafesini hesapla\n",
    "    mesafe = np.sqrt(np.sum(D2, axis=1))\n",
    "#    print((mesafe))\n",
    "    # Mesafeleri buyukten kucuge sirala, en kucuk k komsunun indeksi\n",
    "    k_komsu = mesafe.argsort()[:k]\n",
    "#    print(k_komsu)\n",
    "    if np.mean(y[k_komsu]) > 0.5: \n",
    "        print(yeni_adaylar[yeni].reshape(1,-1), \">> Kabul\")\n",
    "    else:\n",
    "        print(yeni_adaylar[yeni].reshape(1,-1), \">>Red\")"
   ]
  },
  {
   "cell_type": "markdown",
   "metadata": {},
   "source": [
    "Yeni Aday matrisindeki tüm adayları tek tek ise_alım fonksiyonuna sokalım"
   ]
  },
  {
   "cell_type": "code",
   "execution_count": 48,
   "metadata": {},
   "outputs": [
    {
     "name": "stdout",
     "output_type": "stream",
     "text": [
      "[[5 5 5 5]] >> Kabul\n",
      "[[5 5 4 4]] >> Kabul\n",
      "[[5 5 3 3]] >> Kabul\n",
      "[[5 5 2 2]] >> Kabul\n",
      "[[5 5 1 1]] >> Kabul\n",
      "[[5 5 0 0]] >> Kabul\n",
      "[[0 0 1 1]] >>Red\n",
      "[[0 0 2 2]] >>Red\n",
      "[[0 0 3 3]] >>Red\n",
      "[[0 0 4 4]] >>Red\n",
      "[[0 0 5 5]] >>Red\n",
      "[[1 2 3 4]] >>Red\n",
      "[[1 1 2 3]] >>Red\n",
      "[[1 2 3 4]] >>Red\n",
      "[[2 2 4 4]] >>Red\n"
     ]
    }
   ],
   "source": [
    "for i in range(yeni_adaylar.shape[0]):\n",
    "    ise_alim(yeni = i, k = 5)"
   ]
  },
  {
   "cell_type": "markdown",
   "metadata": {},
   "source": [
    "**Not:** Bu kod Ka|Ve Ar-Ge Eğitim mülakatı için yazılmıştır."
   ]
  }
 ],
 "metadata": {
  "kernelspec": {
   "display_name": "Python 3",
   "language": "python",
   "name": "python3"
  },
  "language_info": {
   "codemirror_mode": {
    "name": "ipython",
    "version": 3
   },
   "file_extension": ".py",
   "mimetype": "text/x-python",
   "name": "python",
   "nbconvert_exporter": "python",
   "pygments_lexer": "ipython3",
   "version": "3.7.3"
  }
 },
 "nbformat": 4,
 "nbformat_minor": 2
}
